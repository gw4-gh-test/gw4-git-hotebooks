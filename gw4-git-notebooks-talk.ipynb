{
 "cells": [
  {
   "cell_type": "markdown",
   "metadata": {
    "slideshow": {
     "slide_type": "slide"
    }
   },
   "source": [
    "<h1><center>GW4 BioMed NMH Theme Session 2021</center></h1>\n",
    "<h1><center>Open reproducibility tools - git and lab notebooks</center></h1>\n",
    "<h3><center>Mark Einon, Systems Manager</center></h3>\n",
    "<h3><center>DPMCN / Centre for Neuropsychiatric Genetics &amp; Genomics</center></h3>\n",
    "<h3><center>Cardiff University</center></h3>\n",
    "<h3><center>einonm@cardiff.ac.uk</center></h3>"
   ]
  },
  {
   "cell_type": "raw",
   "metadata": {
    "slideshow": {
     "slide_type": "-"
    }
   },
   "source": [
    "<script>\n",
    "  $( document ).ready(function(){\n",
    "    <!--$('div.input').hide()-->\n",
    "    $('div.prompt').hide()\n",
    "  });\n",
    "  \n",
    "</script>"
   ]
  },
  {
   "cell_type": "markdown",
   "metadata": {
    "slideshow": {
     "slide_type": "slide"
    }
   },
   "source": [
    "### Why has the talk title changed ?\n",
    "\n",
    "* Github and Rmarkdown are two of many tools that facilitate open reproducibility\n",
    "    * As important to know why they are used as how to use them\n",
    "    * The tools used will change between projects and over your career\n",
    "\n",
    "\n",
    "* Github is a fancy way of displaying information from the git tool\n",
    "    * Git is a command line tool, where the real power & usefulness lies \n",
    "    * Another alternative to the proprietary Github is the open source Gitlab\n",
    "\n",
    "\n",
    "* Rmarkdown is specific to the R language, Jupyter notebooks are also popular and can be in R, python, bash and dozens of other langs\n",
    "    * Both fully functioning data science lab notebooks that work in unison with git\n",
    "    * Open source and widely used - aim to get exposure to both"
   ]
  },
  {
   "cell_type": "markdown",
   "metadata": {
    "slideshow": {
     "slide_type": "slide"
    }
   },
   "source": [
    "# What is Open Reproducible Research?\n",
    "\n",
    "<img src=\"./Os_taxonomy.png\" style=\"float: centre; width: 10260px; height: 540px;\">\n",
    "\n",
    "<small>https://www.fosteropenscience.eu</small>"
   ]
  },
  {
   "cell_type": "markdown",
   "metadata": {
    "slideshow": {
     "slide_type": "slide"
    }
   },
   "source": [
    "# What is Open Reproducible Research? (Cont.)\n",
    "\n",
    "Open science involves making scientific methods, data, and outcomes available to everyone. It can be broken down into several parts, including:\n",
    "\n",
    "* Transparency in data collection, processing and analysis methods, and derivation of outcomes.\n",
    "* Publicly available data and associated processing methods.\n",
    "* Transparent communication of results..\n",
    "\n",
    "Reproducible science is when anyone (including others and your future self) can understand and perform the steps of an analysis, applied to the same or even new data - achieving the same results.\n",
    "\n",
    "Together, open reproducible science results from open workflows that allow you to easily share work and collaborate with others as well as openly publish your data and workflows to contribute to greater scientific knowledge.\n",
    "\n",
    "\n",
    "<small> From https://www.earthdatascience.org/courses/intro-to-earth-data-science/open-reproducible-science/get-started-open-reproducible-science/</small><br>\n",
    "<small>Also see https://lgatto.github.io/open-and-rr-2/</small>"
   ]
  },
  {
   "cell_type": "markdown",
   "metadata": {
    "slideshow": {
     "slide_type": "slide"
    }
   },
   "source": [
    "# Why is open reproducible research being encouraged?\n",
    "\n",
    "* A **replication crisis** has been found to exist and open science is seen as a solution, of which open reproducible research is a part.\n",
    "\n",
    "\n",
    "* Many findings were found to be doubtful [1], due to: \n",
    "    * Generation of new data/publications at an unprecedented rate.\n",
    "    * Compelling evidence that the majority of these discoveries will not stand the test of time.\n",
    "    * **Causes: failure to adhere to good scientific practice and the desperation to publish or perish**\n",
    "    * This is a multifaceted, multi-stakeholder problem.\n",
    "    * No single party is solely responsible, and no single solution will suffice.\n",
    "    \n",
    "<small>1. https://en.wikipedia.org/wiki/Replication_crisis</small>"
   ]
  },
  {
   "cell_type": "markdown",
   "metadata": {
    "slideshow": {
     "slide_type": "slide"
    }
   },
   "source": [
    "# The story so far...\n",
    "\n",
    "* For a long time, it has been possible to be a top researcher in the field without ever having shared working, reliable code.\n",
    "* Funders would still give you money\n",
    "* Publishers would still publish without working code\n",
    "* Peer reviewers would not insist on having verifiable code\n",
    "* Unlikely that anyone would ask to repeat your findings using your scripts (also easy to fob off)\n",
    "* PhDs happen without this sort of collaboration - the code probably wasn't reviewed, shared or run by anyone else, so the relevant collaboration skills are not taught."
   ]
  },
  {
   "cell_type": "markdown",
   "metadata": {
    "slideshow": {
     "slide_type": "slide"
    }
   },
   "source": [
    "# The situation is changing...\n",
    "\n",
    "Researchers are being increasingly challenged to practice open science that goes beyond open access and open data, extending all the way to making software and data research outputs truly repeatable and reproducible.\n",
    "\n",
    "Funders[1], journals[2] and REF[3] are making strong recommendations and sometimes mandatory policy to instil an open science culture and adopt practices successfully established in open source communities, and the rate of such activities is increasing.\n",
    "\n",
    "These practices aim to ensure defect-free behaviour of software which is understandable by other researchers and produce results using repeatable pipelines.\n",
    "\n",
    "<small>1. https://wellcome.org/grant-funding/guidance/how-complete-outputs-management-plan</small><br>\n",
    "<small>2. https://www.nature.com/documents/GuidelinesCodePublication.pdf</small><br>\n",
    "<small>3. https://www.ukri.org/our-work/supporting-healthy-research-and-innovation-culture/open-research/</small>"
   ]
  },
  {
   "cell_type": "markdown",
   "metadata": {
    "slideshow": {
     "slide_type": "slide"
    }
   },
   "source": [
    "## Meeting open reproducible research requirements\n",
    "\n",
    "Open reproducible research is increasingly becoming a requirement to obtain funding and publish research. To ensure open reproducible research, we may need to provide:\n",
    "\n",
    "<img src=\"./hamilton1.jpg\" style=\"display: block; float: right; width: 260px; margin-left: 10px; margin-right: 10px;\">\n",
    "\n",
    "* Source code\n",
    "* Documentation\n",
    "* Executables\n",
    "* Software dependencies\n",
    "* Narratives of what the code is doing \n",
    "* Narratives of whole workflows\n",
    "* Input and output data\n",
    "* Open licensing\n",
    "\n",
    "<small>1. https://www.software.ac.uk/blog/2018-05-22-sharing-reproducible-research-minimum-requirements-and-desirable-features</small><br>\n",
    "<small>2. https://software.ac.uk/resources/guides/choosing-open-source-licence</small>"
   ]
  },
  {
   "cell_type": "markdown",
   "metadata": {
    "slideshow": {
     "slide_type": "slide"
    }
   },
   "source": [
    "# Git\n",
    "\n",
    "* Git is a version control & complex communication tool that is the bread-and-butter of data science best practice\n",
    "    * An industry-standard tool\n",
    "\n",
    "* It is essentially a command line tool with other web-based interfaces available, e.g. GitHub & GitLab\n",
    "\n",
    "* Git fluency is currently a basic necessity for producing reproducible data science\n",
    "\n",
    "* It is quick to understand and use basic git features, but does have a learning curve for more powerful features\n",
    "    * every change to a set of text-based files has it's own ID and log message\n",
    "    * ability to revert to any previous version or see differences between versions\n",
    "    * gtilab/github give free, online cloud storage for your code\n",
    "    * easier to get support in tackling issues in your project"
   ]
  },
  {
   "cell_type": "markdown",
   "metadata": {
    "slideshow": {
     "slide_type": "slide"
    }
   },
   "source": [
    "# Learning git\n",
    "\n",
    "* Software Carpentry have a well-pitched comprehensive introductory course at https://swcarpentry.github.io/git-novice/ (3-4 hrs)\n",
    "* Git is a tool (mechanism) and doesn't dictate a process (policy) on how to use it\n",
    "* Git can be used by a sole developer, a team or an entire community\n",
    "* Git is like chess, rules easy to learn but competency comes from practising\n",
    "* Always choose/define a process! Having a best-practice process has a greater bearing on quality than the people\n",
    "    * (Code peer review is the next most fruitful best practice a project could adopt)\n",
    "    \n",
    "<small>1. https://sdlambert.github.io/2015/04/09/git-workflow-for-solo-development/ git workflow for solo development</small><br>\n",
    "<small>2. https://osf.io/4yp9a/?action=download Curating Research Assets: A Tutorial on the Git Version Control System</small><br>\n",
    "<small>3. https://git-scm.com/book/en/v2/GitHub-Contributing-to-a-Project GitHub - contributing to a Project</small><br>\n",
    "<small>4. https://journals.plos.org/ploscompbiol/article?id=10.1371/journal.pcbi.1005510 Good enough practices in scientific computing</small>"
   ]
  },
  {
   "cell_type": "markdown",
   "metadata": {
    "slideshow": {
     "slide_type": "slide"
    }
   },
   "source": [
    "# Example sole developer git workflow\n",
    "\n",
    "### Setup a local repository with a remote copy\n",
    "\n",
    "* Initialise a local git repository\n",
    "* Create a remote repository \n",
    "* Create a git repo README.txt & LICENCE.txt\n",
    "* Add the README, LICENCE and any existing files to the local repository, ensuring the git commit message follows best practice\n",
    "* Push the local committed changes to the remote repository\n",
    "\n",
    "### Make and version a change \n",
    "\n",
    "* Edit some files in the local repository, making changes to do one complete, logical thing only. E.g. fix a bug, add a feature or some tests\n",
    "* Test the changes, ensuring the code runs with no regressions\n",
    "* Add the new file modifications to the local repository, ensuring the git commit message follows best practice\n",
    "* Push the local committed changes to the remote repository"
   ]
  },
  {
   "cell_type": "markdown",
   "metadata": {
    "slideshow": {
     "slide_type": "slide"
    }
   },
   "source": [
    "# Example sole developer git workflow (Cont.)\n",
    "\n",
    "### Make a big change \n",
    "\n",
    "* Create a git branch in which to develop the desired change\n",
    "* Make and commit several logical changes to develop the big change\n",
    "* Test the big change, ensuring the code runs with no regressions\n",
    "* Rebase branch onto the HEAD of master\n",
    "* Push the local committed changes to the remote repository\n",
    "\n",
    "### Shared team workflow\n",
    "\n",
    "This would use branches more extensively and adopt peer review as a gateway to getting changes merged into the shared branch/repository"
   ]
  },
  {
   "cell_type": "markdown",
   "metadata": {
    "slideshow": {
     "slide_type": "slide"
    }
   },
   "source": [
    "# Demonstration\n",
    "\n",
    "* Set up a git repo. Push to gitlab and github"
   ]
  },
  {
   "cell_type": "markdown",
   "metadata": {
    "slideshow": {
     "slide_type": "slide"
    }
   },
   "source": [
    "# Data science notebooks\n",
    "\n",
    "* These are plain-text documents that mix markdown narrative with code and optionally the code output, which is often graphs and tables\n",
    "    * A plain-text format is essential for git to be able to manage changes effectively\n",
    "    \n",
    "* They are split into a series of 'cells' of markdown or code. The code can be executed in-situ and exported to html, pdf, LaTeX, slideshows, dashboards and other formats\n",
    "\n",
    "* As an alternative to code scripts, they can also record and provide a narrative of an experiment and allow interaction with all parts of an analysis, not just the results\n",
    "\n",
    "* Along with git, notebooks facilitate peer review of analysis code\n",
    "\n",
    "* Jupyter notebooks are the most widely used notebook, with Rmarkdown more popular in some fields\n",
    "\n",
    "* These slides were created in a Jupyter Notebook!\n",
    "\n",
    "<small>1. https://www.datacamp.com/community/blog/jupyter-notebook-r</small><br>\n",
    "<small>2. https://www.datacamp.com/community/tutorials/tutorial-jupyter-notebook</small><br>"
   ]
  },
  {
   "cell_type": "markdown",
   "metadata": {
    "slideshow": {
     "slide_type": "slide"
    }
   },
   "source": [
    "# Rmarkdown\n",
    "\n",
    "* Rmarkdown is technically non-interactive, but the newer R notebooks add this functionality to mimic Jupyter notebooks in this regard - so that cells can be edited and run in the same document interactively\n",
    "\n",
    "* RStudio (via the knitr package) takes the Rmarkdown (.Rmd) file, containing only code and markdown and produces a .html file with code, markdown, when executed as a 'batch' style operation\n",
    "    * In comparison, Jupyter uses .ipynb as default recording all three, and the jupytext package allows just the code and markdown to be stored as a .py/.R/.java file\n",
    "    * Two separate files allow analysis steps to be stored in git without having to manage differences in runs with different results\n",
    "\n",
    "* Markdown itself is a simple plain text format with some easy formatting characters for headings, bold/italics, tables etc.\n",
    "    * The flavour of markdown does vary between R, Jupyter, wikis etc - be careful!\n"
   ]
  },
  {
   "cell_type": "markdown",
   "metadata": {
    "slideshow": {
     "slide_type": "slide"
    }
   },
   "source": [
    "# Demonstration\n",
    "\n",
    "* Create an Rmarkdown doc and push to the repos"
   ]
  },
  {
   "cell_type": "markdown",
   "metadata": {
    "slideshow": {
     "slide_type": "slide"
    }
   },
   "source": [
    "# Jupyter notebooks\n",
    "\n",
    "* Jupyter is a web-based application that allows editing of Jupyter notebook files, stored as plain text with an .ipynb extension, containing markdown, code and output\n",
    "    * Stored in plain text JSON format\n",
    "    * Use the jupytext package to also save a .R/.py/.sh file with just plain text code and markdown\n",
    "    \n",
    "* Code cells can be run independently in any order interactively (watch out!), and saved at any time\n",
    "    * Unlike the static R knitr package, Jupyter has a language specific 'kernel' constantly running in the background that executes the code, and keeps state of variables and data frames etc, much like an interactive shell\n",
    "    \n",
    "* As with git, R & Jupyter notebook skills come from practice using them"
   ]
  },
  {
   "cell_type": "markdown",
   "metadata": {
    "slideshow": {
     "slide_type": "slide"
    }
   },
   "source": [
    "# Demonstration\n",
    "\n",
    "* Modify a jupyter notebook and push to the repos\n",
    "* Or print a pdf of the notes & upload"
   ]
  },
  {
   "cell_type": "markdown",
   "metadata": {
    "slideshow": {
     "slide_type": "slide"
    }
   },
   "source": [
    "##  Further best practices that could be adopted\n",
    "\n",
    "* Remove manual analysis steps - put into code form and automate\n",
    "\n",
    "* Version control of code & associated documents (e.g. licence/guides)\n",
    "\n",
    "* Share discoverable workflows/code - use a gitlab group\n",
    "\n",
    "* Use 'Agile' checklists, guides and workflow documentation - light touch and generic\n",
    "\n",
    "* Pipeline validation & testing\n",
    "\n",
    "* Project issue trackers\n",
    "\n",
    "* Peer review of code\n",
    "\n",
    "* Ensuring feedback loops exist to improve practices - development processes are projects themselves\n",
    "\n",
    "* Foster a community of practitioners"
   ]
  }
 ],
 "metadata": {
  "celltoolbar": "Slideshow",
  "hide_input": false,
  "jupytext": {
   "text_representation": {
    "extension": ".py",
    "format_name": "light",
    "format_version": "1.5",
    "jupytext_version": "1.10.2"
   }
  },
  "kernelspec": {
   "display_name": "Python 3",
   "language": "python",
   "name": "python3"
  },
  "language_info": {
   "codemirror_mode": {
    "name": "ipython",
    "version": 3
   },
   "file_extension": ".py",
   "mimetype": "text/x-python",
   "name": "python",
   "nbconvert_exporter": "python",
   "pygments_lexer": "ipython3",
   "version": "3.9.5"
  },
  "latex_envs": {
   "LaTeX_envs_menu_present": true,
   "autoclose": false,
   "autocomplete": true,
   "bibliofile": "biblio.bib",
   "cite_by": "apalike",
   "current_citInitial": 1,
   "eqLabelWithNumbers": true,
   "eqNumInitial": 1,
   "hotkeys": {
    "equation": "Ctrl-E",
    "itemize": "Ctrl-I"
   },
   "labels_anchors": false,
   "latex_user_defs": false,
   "report_style_numbering": false,
   "user_envs_cfg": false
  }
 },
 "nbformat": 4,
 "nbformat_minor": 5
}
